{
 "cells": [
  {
   "cell_type": "code",
   "execution_count": 47,
   "id": "14029a7e-0a2d-43ba-8ab1-f1ee649d3453",
   "metadata": {},
   "outputs": [],
   "source": [
    "#Importing pandas library\n",
    "\n",
    "import pandas as pd\n"
   ]
  },
  {
   "cell_type": "code",
   "execution_count": 49,
   "id": "cd6b88a2-fad9-48ba-b6e4-b7e3a12a205c",
   "metadata": {},
   "outputs": [],
   "source": [
    "#upload the dataset file\n",
    "\n",
    "dataset=pd.read_csv(\"insurance_pre.csv\")"
   ]
  },
  {
   "cell_type": "code",
   "execution_count": 51,
   "id": "bcdc0299-1b26-4c18-9e2b-3efe98245612",
   "metadata": {},
   "outputs": [],
   "source": [
    "#Converting the categorical data into Numerical Data\n",
    "#Eliminating the dummies from the columns\n",
    "\n",
    "dataset=pd.get_dummies(dataset,drop_first=True)"
   ]
  },
  {
   "cell_type": "code",
   "execution_count": 53,
   "id": "a5634a0a-f107-4b66-a585-3afc06f8c8d6",
   "metadata": {},
   "outputs": [
    {
     "data": {
      "text/plain": [
       "Index(['age', 'bmi', 'children', 'charges', 'sex_male', 'smoker_yes'], dtype='object')"
      ]
     },
     "execution_count": 53,
     "metadata": {},
     "output_type": "execute_result"
    }
   ],
   "source": [
    "#list the name of the columns\n",
    "\n",
    "dataset.columns"
   ]
  },
  {
   "cell_type": "code",
   "execution_count": 55,
   "id": "142f14ce-6afd-49e0-8d69-b470d14811ff",
   "metadata": {},
   "outputs": [],
   "source": [
    "#input split\n",
    "#output split\n",
    "\n",
    "independent=dataset[['age', 'bmi', 'children','sex_male', 'smoker_yes']]\n",
    "dependent=dataset[['charges']]"
   ]
  },
  {
   "cell_type": "code",
   "execution_count": 57,
   "id": "8042018c-14d8-42b7-a0ea-0897696592bd",
   "metadata": {},
   "outputs": [],
   "source": [
    "#train & test set split\n",
    "\n",
    "from sklearn.model_selection import train_test_split\n",
    "x_train,x_test,y_train,y_test=train_test_split(independent,dependent,test_size=0.30,random_state=0)"
   ]
  },
  {
   "cell_type": "code",
   "execution_count": 59,
   "id": "4f839270-c491-4a36-84c2-d16b05ecae4e",
   "metadata": {},
   "outputs": [],
   "source": [
    "#Load the preprocessed inputs to a variable named pre_input\n",
    "\n",
    "import pickle\n",
    "pre_input=pickle.load(open(\"Scaling_input.sav\",'rb'))\n",
    "\n"
   ]
  },
  {
   "cell_type": "code",
   "execution_count": 63,
   "id": "00ef7e5b-a649-4cf8-9d23-a3bc50e159e9",
   "metadata": {},
   "outputs": [],
   "source": [
    "#Load the preprocessed output to a variable named pre_input\n",
    "\n",
    "import pickle\n",
    "pre_output=pickle.load(open(\"Scaling_output.sav\",'rb'))"
   ]
  },
  {
   "cell_type": "code",
   "execution_count": 65,
   "id": "9234d6aa-6f37-4606-acd7-6ccaf96de050",
   "metadata": {
    "scrolled": true
   },
   "outputs": [
    {
     "name": "stderr",
     "output_type": "stream",
     "text": [
      "C:\\Users\\HP\\anaconda3\\Lib\\site-packages\\sklearn\\base.py:493: UserWarning: X does not have valid feature names, but StandardScaler was fitted with feature names\n",
      "  warnings.warn(\n"
     ]
    }
   ],
   "source": [
    "#unprocessed data is passed by the user\n",
    "#Unprocessed data is preprocessed and stored in(pre_input) and assigned to variable (preinput)\n",
    "\n",
    "preinput=pre_input.transform([[32,30.973,4,True,True]])"
   ]
  },
  {
   "cell_type": "code",
   "execution_count": 67,
   "id": "839e65f7-cb37-47c0-8e09-04e669df30bd",
   "metadata": {},
   "outputs": [
    {
     "data": {
      "text/plain": [
       "array([[-0.53346019,  0.03540188,  2.42515947,  1.02378711,  1.98149332]])"
      ]
     },
     "execution_count": 67,
     "metadata": {},
     "output_type": "execute_result"
    }
   ],
   "source": [
    "preinput"
   ]
  },
  {
   "cell_type": "code",
   "execution_count": 69,
   "id": "bd7b6142-6661-417b-b33b-aa4d8d9f1c47",
   "metadata": {},
   "outputs": [],
   "source": [
    "#Load the preprocessed input to the model\n",
    "\n",
    "loaded_model=pickle.load(open(\"finalized_model_supportvector.sav\",'rb'))\n",
    "result=loaded_model.predict(preinput)\n"
   ]
  },
  {
   "cell_type": "code",
   "execution_count": 71,
   "id": "be7282ca-0389-42a3-9908-a99e35123c18",
   "metadata": {},
   "outputs": [
    {
     "data": {
      "text/plain": [
       "array([1.67410402])"
      ]
     },
     "execution_count": 71,
     "metadata": {},
     "output_type": "execute_result"
    }
   ],
   "source": [
    "result"
   ]
  },
  {
   "cell_type": "code",
   "execution_count": 73,
   "id": "404d80b1-540d-4f92-b731-b793556c807c",
   "metadata": {},
   "outputs": [],
   "source": [
    "# Inverse transform used to convert the pre-processed data to raw data \n",
    "preoutput=pre_output.inverse_transform([result])"
   ]
  },
  {
   "cell_type": "code",
   "execution_count": 77,
   "id": "04217400-8f33-42ea-8550-b26cf5b1a280",
   "metadata": {},
   "outputs": [
    {
     "data": {
      "text/plain": [
       "array([[33110.82977865]])"
      ]
     },
     "execution_count": 77,
     "metadata": {},
     "output_type": "execute_result"
    }
   ],
   "source": [
    "preoutput"
   ]
  },
  {
   "cell_type": "code",
   "execution_count": null,
   "id": "dfceca08-7ef2-40d5-97f0-a020509d3a49",
   "metadata": {},
   "outputs": [],
   "source": []
  }
 ],
 "metadata": {
  "kernelspec": {
   "display_name": "Python 3 (ipykernel)",
   "language": "python",
   "name": "python3"
  },
  "language_info": {
   "codemirror_mode": {
    "name": "ipython",
    "version": 3
   },
   "file_extension": ".py",
   "mimetype": "text/x-python",
   "name": "python",
   "nbconvert_exporter": "python",
   "pygments_lexer": "ipython3",
   "version": "3.12.4"
  }
 },
 "nbformat": 4,
 "nbformat_minor": 5
}
