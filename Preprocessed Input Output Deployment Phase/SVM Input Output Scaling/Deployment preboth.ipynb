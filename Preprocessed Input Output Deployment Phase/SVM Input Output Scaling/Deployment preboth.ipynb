{
 "cells": [
  {
   "cell_type": "code",
   "execution_count": 1,
   "id": "14029a7e-0a2d-43ba-8ab1-f1ee649d3453",
   "metadata": {},
   "outputs": [],
   "source": [
    "#Importing pandas library\n",
    "\n",
    "import pandas as pd\n"
   ]
  },
  {
   "cell_type": "code",
   "execution_count": 3,
   "id": "cd6b88a2-fad9-48ba-b6e4-b7e3a12a205c",
   "metadata": {},
   "outputs": [],
   "source": [
    "#upload the dataset file\n",
    "\n",
    "dataset=pd.read_csv(\"insurance_pre.csv\")"
   ]
  },
  {
   "cell_type": "code",
   "execution_count": 5,
   "id": "bcdc0299-1b26-4c18-9e2b-3efe98245612",
   "metadata": {},
   "outputs": [],
   "source": [
    "#Converting the categorical data into Numerical Data\n",
    "#Eliminating the dummies from the columns\n",
    "\n",
    "dataset=pd.get_dummies(dataset,drop_first=True)"
   ]
  },
  {
   "cell_type": "code",
   "execution_count": 7,
   "id": "a5634a0a-f107-4b66-a585-3afc06f8c8d6",
   "metadata": {},
   "outputs": [
    {
     "data": {
      "text/plain": [
       "Index(['age', 'bmi', 'children', 'charges', 'sex_male', 'smoker_yes'], dtype='object')"
      ]
     },
     "execution_count": 7,
     "metadata": {},
     "output_type": "execute_result"
    }
   ],
   "source": [
    "#list the name of the columns\n",
    "\n",
    "dataset.columns"
   ]
  },
  {
   "cell_type": "code",
   "execution_count": 9,
   "id": "142f14ce-6afd-49e0-8d69-b470d14811ff",
   "metadata": {},
   "outputs": [],
   "source": [
    "#input split\n",
    "#output split\n",
    "\n",
    "independent=dataset[['age', 'bmi', 'children','sex_male', 'smoker_yes']]\n",
    "dependent=dataset[['charges']]"
   ]
  },
  {
   "cell_type": "code",
   "execution_count": 11,
   "id": "8042018c-14d8-42b7-a0ea-0897696592bd",
   "metadata": {},
   "outputs": [],
   "source": [
    "#train & test set split\n",
    "\n",
    "from sklearn.model_selection import train_test_split\n",
    "x_train,x_test,y_train,y_test=train_test_split(independent,dependent,test_size=0.30,random_state=0)"
   ]
  },
  {
   "cell_type": "code",
   "execution_count": 13,
   "id": "db66cb57-3415-4bbd-a897-1cd50964f656",
   "metadata": {},
   "outputs": [],
   "source": [
    "#Perfomring standardisation for the inputs \n",
    "#Before sending the dataset to the model; standardizing the input value to convert to standard range\n",
    "# Performing scaling for inputs (x)\n",
    "\n",
    "from sklearn.preprocessing import StandardScaler \n",
    "sc=StandardScaler()\n",
    "x_train=sc.fit_transform(x_train)\n",
    "x_test=sc.transform(x_test)\n"
   ]
  },
  {
   "cell_type": "code",
   "execution_count": 15,
   "id": "a1f330ca-5229-4683-a8d8-8816c777b4c0",
   "metadata": {},
   "outputs": [],
   "source": [
    "# Performing scaling for output (y)\n",
    "\n",
    "from sklearn.preprocessing import StandardScaler \n",
    "scy=StandardScaler()\n",
    "y_train=scy.fit_transform(y_train)\n",
    "y_test=scy.transform(y_test)\n"
   ]
  },
  {
   "cell_type": "code",
   "execution_count": 19,
   "id": "24c2c11d-9498-4343-99bf-22bce28ebb61",
   "metadata": {},
   "outputs": [],
   "source": [
    "import pickle"
   ]
  },
  {
   "cell_type": "code",
   "execution_count": 31,
   "id": "9234d6aa-6f37-4606-acd7-6ccaf96de050",
   "metadata": {},
   "outputs": [
    {
     "name": "stderr",
     "output_type": "stream",
     "text": [
      "C:\\Users\\HP\\anaconda3\\Lib\\site-packages\\sklearn\\base.py:493: UserWarning: X does not have valid feature names, but StandardScaler was fitted with feature names\n",
      "  warnings.warn(\n"
     ]
    }
   ],
   "source": [
    "#preprocessing the input values received from the user\n",
    "\n",
    "preinput=sc.transform([[32,30.973,4,True,True]])"
   ]
  },
  {
   "cell_type": "code",
   "execution_count": 33,
   "id": "839e65f7-cb37-47c0-8e09-04e669df30bd",
   "metadata": {},
   "outputs": [
    {
     "data": {
      "text/plain": [
       "array([[-0.53346019,  0.03540188,  2.42515947,  1.02378711,  1.98149332]])"
      ]
     },
     "execution_count": 33,
     "metadata": {},
     "output_type": "execute_result"
    }
   ],
   "source": [
    "preinput"
   ]
  },
  {
   "cell_type": "code",
   "execution_count": 39,
   "id": "bd7b6142-6661-417b-b33b-aa4d8d9f1c47",
   "metadata": {},
   "outputs": [],
   "source": [
    "#Load the preprocessed inputs received from the user to the model\n",
    "\n",
    "loaded_model=pickle.load(open(\"finalized_model_supportvector.sav\",'rb'))\n",
    "result=loaded_model.predict(preinput)\n"
   ]
  },
  {
   "cell_type": "code",
   "execution_count": 41,
   "id": "be7282ca-0389-42a3-9908-a99e35123c18",
   "metadata": {},
   "outputs": [
    {
     "data": {
      "text/plain": [
       "array([1.67410402])"
      ]
     },
     "execution_count": 41,
     "metadata": {},
     "output_type": "execute_result"
    }
   ],
   "source": [
    "result"
   ]
  },
  {
   "cell_type": "code",
   "execution_count": 43,
   "id": "404d80b1-540d-4f92-b731-b793556c807c",
   "metadata": {},
   "outputs": [],
   "source": [
    "# Inverse transform used to convert the pre-processed data to raw data \n",
    "preoutput=scy.inverse_transform([result])"
   ]
  },
  {
   "cell_type": "code",
   "execution_count": 45,
   "id": "04217400-8f33-42ea-8550-b26cf5b1a280",
   "metadata": {},
   "outputs": [
    {
     "data": {
      "text/plain": [
       "array([[33110.82977865]])"
      ]
     },
     "execution_count": 45,
     "metadata": {},
     "output_type": "execute_result"
    }
   ],
   "source": [
    "preoutput"
   ]
  },
  {
   "cell_type": "code",
   "execution_count": null,
   "id": "dfceca08-7ef2-40d5-97f0-a020509d3a49",
   "metadata": {},
   "outputs": [],
   "source": []
  }
 ],
 "metadata": {
  "kernelspec": {
   "display_name": "Python 3 (ipykernel)",
   "language": "python",
   "name": "python3"
  },
  "language_info": {
   "codemirror_mode": {
    "name": "ipython",
    "version": 3
   },
   "file_extension": ".py",
   "mimetype": "text/x-python",
   "name": "python",
   "nbconvert_exporter": "python",
   "pygments_lexer": "ipython3",
   "version": "3.12.4"
  }
 },
 "nbformat": 4,
 "nbformat_minor": 5
}
