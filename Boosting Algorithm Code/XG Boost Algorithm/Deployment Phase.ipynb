{
 "cells": [
  {
   "cell_type": "code",
   "execution_count": 7,
   "id": "9eb47c07-b843-4dc7-afa3-3744aae19663",
   "metadata": {},
   "outputs": [],
   "source": [
    "import pickle\n",
    "Loaded_model=pickle.load(open(\"finalized_model_xgboost.sav\",'rb'))\n",
    "result=Loaded_model.predict([[40,True,32,4,True]])"
   ]
  },
  {
   "cell_type": "code",
   "execution_count": 9,
   "id": "cbc57e8f-322c-4ca4-8acf-a522fca23cb4",
   "metadata": {},
   "outputs": [
    {
     "data": {
      "text/plain": [
       "array([38021.19], dtype=float32)"
      ]
     },
     "execution_count": 9,
     "metadata": {},
     "output_type": "execute_result"
    }
   ],
   "source": [
    "result"
   ]
  },
  {
   "cell_type": "code",
   "execution_count": null,
   "id": "1b0faae3-bd0c-42bc-99a7-45d6e5767bcf",
   "metadata": {},
   "outputs": [],
   "source": []
  }
 ],
 "metadata": {
  "kernelspec": {
   "display_name": "Python 3 (ipykernel)",
   "language": "python",
   "name": "python3"
  },
  "language_info": {
   "codemirror_mode": {
    "name": "ipython",
    "version": 3
   },
   "file_extension": ".py",
   "mimetype": "text/x-python",
   "name": "python",
   "nbconvert_exporter": "python",
   "pygments_lexer": "ipython3",
   "version": "3.12.4"
  }
 },
 "nbformat": 4,
 "nbformat_minor": 5
}
