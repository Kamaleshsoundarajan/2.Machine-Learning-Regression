{
 "cells": [
  {
   "cell_type": "code",
   "execution_count": 39,
   "id": "1f661033-82f1-4ce0-88c6-3dac620fa76f",
   "metadata": {},
   "outputs": [],
   "source": [
    "\n",
    "#Importing pandas library\n",
    "\n",
    "import pandas as pd"
   ]
  },
  {
   "cell_type": "code",
   "execution_count": 41,
   "id": "024c0f5d-ace4-4714-80c4-56e02e206b82",
   "metadata": {},
   "outputs": [],
   "source": [
    "#upload the dataset file\n",
    "\n",
    "dataset=pd.read_csv(\"insurance_pre.csv\")"
   ]
  },
  {
   "cell_type": "code",
   "execution_count": 43,
   "id": "325b18fd-27d6-4e4f-a1b5-2161ebf3551e",
   "metadata": {},
   "outputs": [],
   "source": [
    "#Converting the categorical data into Numerical Data\n",
    "#Eliminating the dummies from the columns\n",
    "\n",
    "dataset=pd.get_dummies(dataset,drop_first=True)"
   ]
  },
  {
   "cell_type": "code",
   "execution_count": 45,
   "id": "add06817-4f28-4240-a015-3cc606be7e19",
   "metadata": {},
   "outputs": [],
   "source": [
    "#input split\n",
    "#output split\n",
    "\n",
    "independent=dataset[['age', 'bmi', 'children','sex_male', 'smoker_yes']]\n",
    "dependent=dataset[['charges']]\n"
   ]
  },
  {
   "cell_type": "code",
   "execution_count": 47,
   "id": "6d415709-ee2a-4aa3-8159-2a993f5c85cb",
   "metadata": {},
   "outputs": [],
   "source": [
    "#train & test set split\n",
    "\n",
    "from sklearn.model_selection import train_test_split\n",
    "x_train,x_test,y_train,y_test=train_test_split(independent,dependent,test_size=0.30,random_state=0)"
   ]
  },
  {
   "cell_type": "code",
   "execution_count": 49,
   "id": "a6ca5049-9a3c-46ea-a1aa-b3d2f0d4ea0e",
   "metadata": {},
   "outputs": [],
   "source": [
    "#Load the preprocessing step stored in the file, Scaling, to a variable named loaded_scale\n",
    "\n",
    "import pickle\n",
    "loaded_scale=pickle.load(open(\"Scaling.sav\",'rb'))\n"
   ]
  },
  {
   "cell_type": "code",
   "execution_count": 51,
   "id": "c6bdc10a-85a0-40b1-a73b-39e0e749cbf8",
   "metadata": {},
   "outputs": [
    {
     "name": "stderr",
     "output_type": "stream",
     "text": [
      "C:\\Users\\HP\\anaconda3\\Lib\\site-packages\\sklearn\\base.py:493: UserWarning: X does not have valid feature names, but StandardScaler was fitted with feature names\n",
      "  warnings.warn(\n"
     ]
    }
   ],
   "source": [
    "Scaled_input=loaded_scale.transform([[32,30.973,4,True,True]])"
   ]
  },
  {
   "cell_type": "code",
   "execution_count": 53,
   "id": "7d4dfa17-9d7a-42cf-a827-ee2b2e603c71",
   "metadata": {},
   "outputs": [
    {
     "data": {
      "text/plain": [
       "array([[-0.53346019,  0.03540188,  2.42515947,  1.02378711,  1.98149332]])"
      ]
     },
     "execution_count": 53,
     "metadata": {},
     "output_type": "execute_result"
    }
   ],
   "source": [
    "Scaled_input"
   ]
  },
  {
   "cell_type": "code",
   "execution_count": 55,
   "id": "38360884-b796-4419-a38b-41483bbe9d48",
   "metadata": {},
   "outputs": [],
   "source": [
    "#Load the model and pass the inputs for prediction\n",
    "\n",
    "import pickle\n",
    "loaded_model=pickle.load(open(\"finalized_model_supportvector.sav\",'rb'))\n",
    "result=loaded_model.predict(Scaled_input)\n"
   ]
  },
  {
   "cell_type": "code",
   "execution_count": 57,
   "id": "cbda09ad-e94c-40bd-afb3-80e912afb827",
   "metadata": {},
   "outputs": [
    {
     "data": {
      "text/plain": [
       "array([26500.602582])"
      ]
     },
     "execution_count": 57,
     "metadata": {},
     "output_type": "execute_result"
    }
   ],
   "source": [
    "result"
   ]
  },
  {
   "cell_type": "code",
   "execution_count": null,
   "id": "8fecf979-ba9b-42ad-9148-379247209854",
   "metadata": {},
   "outputs": [],
   "source": []
  }
 ],
 "metadata": {
  "kernelspec": {
   "display_name": "Python 3 (ipykernel)",
   "language": "python",
   "name": "python3"
  },
  "language_info": {
   "codemirror_mode": {
    "name": "ipython",
    "version": 3
   },
   "file_extension": ".py",
   "mimetype": "text/x-python",
   "name": "python",
   "nbconvert_exporter": "python",
   "pygments_lexer": "ipython3",
   "version": "3.12.4"
  }
 },
 "nbformat": 4,
 "nbformat_minor": 5
}
