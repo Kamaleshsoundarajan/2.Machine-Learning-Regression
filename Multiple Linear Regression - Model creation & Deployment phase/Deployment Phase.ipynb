{
 "cells": [
  {
   "cell_type": "code",
   "execution_count": 1,
   "id": "bd781f1e-ec5d-4802-bd5d-9a430e06fc87",
   "metadata": {},
   "outputs": [
    {
     "name": "stderr",
     "output_type": "stream",
     "text": [
      "C:\\Users\\HP\\anaconda3\\Lib\\site-packages\\sklearn\\base.py:493: UserWarning: X does not have valid feature names, but LinearRegression was fitted with feature names\n",
      "  warnings.warn(\n"
     ]
    }
   ],
   "source": [
    "#Load the saved model\n",
    "\n",
    "import pickle\n",
    "loaded_model=pickle.load(open(\"Finalized_model_multiple_linear.sav\",'rb'))\n",
    "result=loaded_model.predict([[162597,151377.59,407934.54,False,True]])"
   ]
  },
  {
   "cell_type": "code",
   "execution_count": 3,
   "id": "1a44c0a3-600f-481c-ae4d-51859587bca6",
   "metadata": {},
   "outputs": [
    {
     "data": {
      "text/plain": [
       "array([[188520.07594189]])"
      ]
     },
     "execution_count": 3,
     "metadata": {},
     "output_type": "execute_result"
    }
   ],
   "source": [
    "result"
   ]
  },
  {
   "cell_type": "code",
   "execution_count": null,
   "id": "853dcd4e-e807-432f-b56a-8635b0a66583",
   "metadata": {},
   "outputs": [],
   "source": []
  }
 ],
 "metadata": {
  "kernelspec": {
   "display_name": "Python 3 (ipykernel)",
   "language": "python",
   "name": "python3"
  },
  "language_info": {
   "codemirror_mode": {
    "name": "ipython",
    "version": 3
   },
   "file_extension": ".py",
   "mimetype": "text/x-python",
   "name": "python",
   "nbconvert_exporter": "python",
   "pygments_lexer": "ipython3",
   "version": "3.12.4"
  }
 },
 "nbformat": 4,
 "nbformat_minor": 5
}
